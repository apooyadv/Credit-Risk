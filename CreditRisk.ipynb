{
 "cells": [
  {
   "cell_type": "markdown",
   "id": "66a87a9e-c73e-4934-9446-83bff0c837a5",
   "metadata": {},
   "source": [
    "**LOADING THE DATA**"
   ]
  },
  {
   "cell_type": "code",
   "execution_count": 1,
   "id": "d83e6a3c-bc68-456b-bd93-6c99681709b5",
   "metadata": {},
   "outputs": [],
   "source": [
    "import pandas as pd\n",
    "import numpy as np"
   ]
  },
  {
   "cell_type": "code",
   "execution_count": 2,
   "id": "b5f36e3b-54d4-4787-b42f-0f7471640e11",
   "metadata": {},
   "outputs": [
    {
     "data": {
      "text/html": [
       "<div>\n",
       "<style scoped>\n",
       "    .dataframe tbody tr th:only-of-type {\n",
       "        vertical-align: middle;\n",
       "    }\n",
       "\n",
       "    .dataframe tbody tr th {\n",
       "        vertical-align: top;\n",
       "    }\n",
       "\n",
       "    .dataframe thead th {\n",
       "        text-align: right;\n",
       "    }\n",
       "</style>\n",
       "<table border=\"1\" class=\"dataframe\">\n",
       "  <thead>\n",
       "    <tr style=\"text-align: right;\">\n",
       "      <th></th>\n",
       "      <th>Gender</th>\n",
       "      <th>Own_car</th>\n",
       "      <th>Own_property</th>\n",
       "      <th>Work_phone</th>\n",
       "      <th>Phone</th>\n",
       "      <th>Email</th>\n",
       "      <th>Unemployed</th>\n",
       "      <th>Num_children</th>\n",
       "      <th>Num_family</th>\n",
       "      <th>Account_length</th>\n",
       "      <th>Total_income</th>\n",
       "      <th>Age</th>\n",
       "      <th>Years_employed</th>\n",
       "      <th>Income_type</th>\n",
       "      <th>Education_type</th>\n",
       "      <th>Family_status</th>\n",
       "      <th>Housing_type</th>\n",
       "      <th>Occupation_type</th>\n",
       "      <th>Target</th>\n",
       "    </tr>\n",
       "  </thead>\n",
       "  <tbody>\n",
       "    <tr>\n",
       "      <th>0</th>\n",
       "      <td>1</td>\n",
       "      <td>1</td>\n",
       "      <td>1</td>\n",
       "      <td>1</td>\n",
       "      <td>0</td>\n",
       "      <td>0</td>\n",
       "      <td>0</td>\n",
       "      <td>0</td>\n",
       "      <td>2</td>\n",
       "      <td>15</td>\n",
       "      <td>427500.0</td>\n",
       "      <td>32.868574</td>\n",
       "      <td>12.435574</td>\n",
       "      <td>Working</td>\n",
       "      <td>Higher education</td>\n",
       "      <td>Civil marriage</td>\n",
       "      <td>Rented apartment</td>\n",
       "      <td>Other</td>\n",
       "      <td>1</td>\n",
       "    </tr>\n",
       "    <tr>\n",
       "      <th>1</th>\n",
       "      <td>1</td>\n",
       "      <td>1</td>\n",
       "      <td>1</td>\n",
       "      <td>0</td>\n",
       "      <td>0</td>\n",
       "      <td>0</td>\n",
       "      <td>0</td>\n",
       "      <td>0</td>\n",
       "      <td>2</td>\n",
       "      <td>29</td>\n",
       "      <td>112500.0</td>\n",
       "      <td>58.793815</td>\n",
       "      <td>3.104787</td>\n",
       "      <td>Working</td>\n",
       "      <td>Secondary / secondary special</td>\n",
       "      <td>Married</td>\n",
       "      <td>House / apartment</td>\n",
       "      <td>Security staff</td>\n",
       "      <td>0</td>\n",
       "    </tr>\n",
       "    <tr>\n",
       "      <th>2</th>\n",
       "      <td>0</td>\n",
       "      <td>0</td>\n",
       "      <td>1</td>\n",
       "      <td>0</td>\n",
       "      <td>1</td>\n",
       "      <td>1</td>\n",
       "      <td>0</td>\n",
       "      <td>0</td>\n",
       "      <td>1</td>\n",
       "      <td>4</td>\n",
       "      <td>270000.0</td>\n",
       "      <td>52.321403</td>\n",
       "      <td>8.353354</td>\n",
       "      <td>Commercial associate</td>\n",
       "      <td>Secondary / secondary special</td>\n",
       "      <td>Single / not married</td>\n",
       "      <td>House / apartment</td>\n",
       "      <td>Sales staff</td>\n",
       "      <td>0</td>\n",
       "    </tr>\n",
       "    <tr>\n",
       "      <th>3</th>\n",
       "      <td>0</td>\n",
       "      <td>0</td>\n",
       "      <td>1</td>\n",
       "      <td>0</td>\n",
       "      <td>0</td>\n",
       "      <td>0</td>\n",
       "      <td>1</td>\n",
       "      <td>0</td>\n",
       "      <td>1</td>\n",
       "      <td>20</td>\n",
       "      <td>283500.0</td>\n",
       "      <td>61.504343</td>\n",
       "      <td>0.000000</td>\n",
       "      <td>Pensioner</td>\n",
       "      <td>Higher education</td>\n",
       "      <td>Separated</td>\n",
       "      <td>House / apartment</td>\n",
       "      <td>Other</td>\n",
       "      <td>0</td>\n",
       "    </tr>\n",
       "    <tr>\n",
       "      <th>4</th>\n",
       "      <td>1</td>\n",
       "      <td>1</td>\n",
       "      <td>1</td>\n",
       "      <td>1</td>\n",
       "      <td>1</td>\n",
       "      <td>1</td>\n",
       "      <td>0</td>\n",
       "      <td>0</td>\n",
       "      <td>2</td>\n",
       "      <td>5</td>\n",
       "      <td>270000.0</td>\n",
       "      <td>46.193967</td>\n",
       "      <td>2.105450</td>\n",
       "      <td>Working</td>\n",
       "      <td>Higher education</td>\n",
       "      <td>Married</td>\n",
       "      <td>House / apartment</td>\n",
       "      <td>Accountants</td>\n",
       "      <td>0</td>\n",
       "    </tr>\n",
       "    <tr>\n",
       "      <th>...</th>\n",
       "      <td>...</td>\n",
       "      <td>...</td>\n",
       "      <td>...</td>\n",
       "      <td>...</td>\n",
       "      <td>...</td>\n",
       "      <td>...</td>\n",
       "      <td>...</td>\n",
       "      <td>...</td>\n",
       "      <td>...</td>\n",
       "      <td>...</td>\n",
       "      <td>...</td>\n",
       "      <td>...</td>\n",
       "      <td>...</td>\n",
       "      <td>...</td>\n",
       "      <td>...</td>\n",
       "      <td>...</td>\n",
       "      <td>...</td>\n",
       "      <td>...</td>\n",
       "      <td>...</td>\n",
       "    </tr>\n",
       "    <tr>\n",
       "      <th>9704</th>\n",
       "      <td>0</td>\n",
       "      <td>0</td>\n",
       "      <td>0</td>\n",
       "      <td>0</td>\n",
       "      <td>0</td>\n",
       "      <td>0</td>\n",
       "      <td>0</td>\n",
       "      <td>0</td>\n",
       "      <td>2</td>\n",
       "      <td>20</td>\n",
       "      <td>180000.0</td>\n",
       "      <td>56.400884</td>\n",
       "      <td>0.542106</td>\n",
       "      <td>Pensioner</td>\n",
       "      <td>Secondary / secondary special</td>\n",
       "      <td>Civil marriage</td>\n",
       "      <td>Municipal apartment</td>\n",
       "      <td>Laborers</td>\n",
       "      <td>1</td>\n",
       "    </tr>\n",
       "    <tr>\n",
       "      <th>9705</th>\n",
       "      <td>0</td>\n",
       "      <td>0</td>\n",
       "      <td>1</td>\n",
       "      <td>1</td>\n",
       "      <td>1</td>\n",
       "      <td>0</td>\n",
       "      <td>0</td>\n",
       "      <td>0</td>\n",
       "      <td>2</td>\n",
       "      <td>19</td>\n",
       "      <td>112500.0</td>\n",
       "      <td>43.360233</td>\n",
       "      <td>7.375921</td>\n",
       "      <td>Commercial associate</td>\n",
       "      <td>Secondary / secondary special</td>\n",
       "      <td>Married</td>\n",
       "      <td>House / apartment</td>\n",
       "      <td>Other</td>\n",
       "      <td>1</td>\n",
       "    </tr>\n",
       "    <tr>\n",
       "      <th>9706</th>\n",
       "      <td>1</td>\n",
       "      <td>1</td>\n",
       "      <td>1</td>\n",
       "      <td>0</td>\n",
       "      <td>0</td>\n",
       "      <td>0</td>\n",
       "      <td>0</td>\n",
       "      <td>0</td>\n",
       "      <td>2</td>\n",
       "      <td>21</td>\n",
       "      <td>90000.0</td>\n",
       "      <td>52.296762</td>\n",
       "      <td>4.711938</td>\n",
       "      <td>Working</td>\n",
       "      <td>Secondary / secondary special</td>\n",
       "      <td>Married</td>\n",
       "      <td>House / apartment</td>\n",
       "      <td>Other</td>\n",
       "      <td>1</td>\n",
       "    </tr>\n",
       "    <tr>\n",
       "      <th>9707</th>\n",
       "      <td>0</td>\n",
       "      <td>0</td>\n",
       "      <td>1</td>\n",
       "      <td>0</td>\n",
       "      <td>1</td>\n",
       "      <td>1</td>\n",
       "      <td>0</td>\n",
       "      <td>0</td>\n",
       "      <td>2</td>\n",
       "      <td>32</td>\n",
       "      <td>157500.0</td>\n",
       "      <td>33.914454</td>\n",
       "      <td>3.627727</td>\n",
       "      <td>Pensioner</td>\n",
       "      <td>Higher education</td>\n",
       "      <td>Married</td>\n",
       "      <td>House / apartment</td>\n",
       "      <td>Medicine staff</td>\n",
       "      <td>1</td>\n",
       "    </tr>\n",
       "    <tr>\n",
       "      <th>9708</th>\n",
       "      <td>1</td>\n",
       "      <td>0</td>\n",
       "      <td>1</td>\n",
       "      <td>0</td>\n",
       "      <td>0</td>\n",
       "      <td>0</td>\n",
       "      <td>0</td>\n",
       "      <td>0</td>\n",
       "      <td>1</td>\n",
       "      <td>13</td>\n",
       "      <td>112500.0</td>\n",
       "      <td>25.155890</td>\n",
       "      <td>3.266323</td>\n",
       "      <td>Working</td>\n",
       "      <td>Secondary / secondary special</td>\n",
       "      <td>Single / not married</td>\n",
       "      <td>Rented apartment</td>\n",
       "      <td>Laborers</td>\n",
       "      <td>1</td>\n",
       "    </tr>\n",
       "  </tbody>\n",
       "</table>\n",
       "<p>9709 rows × 19 columns</p>\n",
       "</div>"
      ],
      "text/plain": [
       "      Gender  Own_car  Own_property  Work_phone  Phone  Email  Unemployed  \\\n",
       "0          1        1             1           1      0      0           0   \n",
       "1          1        1             1           0      0      0           0   \n",
       "2          0        0             1           0      1      1           0   \n",
       "3          0        0             1           0      0      0           1   \n",
       "4          1        1             1           1      1      1           0   \n",
       "...      ...      ...           ...         ...    ...    ...         ...   \n",
       "9704       0        0             0           0      0      0           0   \n",
       "9705       0        0             1           1      1      0           0   \n",
       "9706       1        1             1           0      0      0           0   \n",
       "9707       0        0             1           0      1      1           0   \n",
       "9708       1        0             1           0      0      0           0   \n",
       "\n",
       "      Num_children  Num_family  Account_length  Total_income        Age  \\\n",
       "0                0           2              15      427500.0  32.868574   \n",
       "1                0           2              29      112500.0  58.793815   \n",
       "2                0           1               4      270000.0  52.321403   \n",
       "3                0           1              20      283500.0  61.504343   \n",
       "4                0           2               5      270000.0  46.193967   \n",
       "...            ...         ...             ...           ...        ...   \n",
       "9704             0           2              20      180000.0  56.400884   \n",
       "9705             0           2              19      112500.0  43.360233   \n",
       "9706             0           2              21       90000.0  52.296762   \n",
       "9707             0           2              32      157500.0  33.914454   \n",
       "9708             0           1              13      112500.0  25.155890   \n",
       "\n",
       "      Years_employed           Income_type                 Education_type  \\\n",
       "0          12.435574               Working               Higher education   \n",
       "1           3.104787               Working  Secondary / secondary special   \n",
       "2           8.353354  Commercial associate  Secondary / secondary special   \n",
       "3           0.000000             Pensioner               Higher education   \n",
       "4           2.105450               Working               Higher education   \n",
       "...              ...                   ...                            ...   \n",
       "9704        0.542106             Pensioner  Secondary / secondary special   \n",
       "9705        7.375921  Commercial associate  Secondary / secondary special   \n",
       "9706        4.711938               Working  Secondary / secondary special   \n",
       "9707        3.627727             Pensioner               Higher education   \n",
       "9708        3.266323               Working  Secondary / secondary special   \n",
       "\n",
       "             Family_status         Housing_type Occupation_type  Target  \n",
       "0           Civil marriage     Rented apartment           Other       1  \n",
       "1                  Married    House / apartment  Security staff       0  \n",
       "2     Single / not married    House / apartment     Sales staff       0  \n",
       "3                Separated    House / apartment           Other       0  \n",
       "4                  Married    House / apartment     Accountants       0  \n",
       "...                    ...                  ...             ...     ...  \n",
       "9704        Civil marriage  Municipal apartment        Laborers       1  \n",
       "9705               Married    House / apartment           Other       1  \n",
       "9706               Married    House / apartment           Other       1  \n",
       "9707               Married    House / apartment  Medicine staff       1  \n",
       "9708  Single / not married     Rented apartment        Laborers       1  \n",
       "\n",
       "[9709 rows x 19 columns]"
      ]
     },
     "execution_count": 2,
     "metadata": {},
     "output_type": "execute_result"
    }
   ],
   "source": [
    "pd.set_option('display.max_columns', 20)\n",
    "df = pd.read_csv('clean_data.csv').drop(['ID'],axis=1)\n",
    "df"
   ]
  },
  {
   "cell_type": "markdown",
   "id": "dad39947-29cb-4035-8848-b1c209527747",
   "metadata": {},
   "source": [
    "**DATA PREPROCESSING**"
   ]
  },
  {
   "cell_type": "code",
   "execution_count": 3,
   "id": "ba1dd933-22a5-4c53-82fa-ecf996c8a1db",
   "metadata": {},
   "outputs": [
    {
     "data": {
      "text/plain": [
       "Index(['Gender', 'Own_car', 'Own_property', 'Work_phone', 'Phone', 'Email',\n",
       "       'Unemployed', 'Num_children', 'Num_family', 'Account_length',\n",
       "       'Total_income', 'Age', 'Years_employed', 'Income_type',\n",
       "       'Education_type', 'Family_status', 'Housing_type', 'Occupation_type',\n",
       "       'Target'],\n",
       "      dtype='object')"
      ]
     },
     "execution_count": 3,
     "metadata": {},
     "output_type": "execute_result"
    }
   ],
   "source": [
    "df.columns"
   ]
  },
  {
   "cell_type": "code",
   "execution_count": 4,
   "id": "105865f7-2d8a-49b2-a1f6-c17180faf258",
   "metadata": {},
   "outputs": [],
   "source": [
    "df = pd.get_dummies(df,columns=['Income_type',\n",
    "       'Education_type', 'Family_status', 'Housing_type', 'Occupation_type']).replace({True:1,False:0})"
   ]
  },
  {
   "cell_type": "code",
   "execution_count": 5,
   "id": "fae7e2fa-62a3-4ec7-b4a4-6628b7681454",
   "metadata": {},
   "outputs": [
    {
     "data": {
      "text/html": [
       "<div>\n",
       "<style scoped>\n",
       "    .dataframe tbody tr th:only-of-type {\n",
       "        vertical-align: middle;\n",
       "    }\n",
       "\n",
       "    .dataframe tbody tr th {\n",
       "        vertical-align: top;\n",
       "    }\n",
       "\n",
       "    .dataframe thead th {\n",
       "        text-align: right;\n",
       "    }\n",
       "</style>\n",
       "<table border=\"1\" class=\"dataframe\">\n",
       "  <thead>\n",
       "    <tr style=\"text-align: right;\">\n",
       "      <th></th>\n",
       "      <th>Gender</th>\n",
       "      <th>Own_car</th>\n",
       "      <th>Own_property</th>\n",
       "      <th>Work_phone</th>\n",
       "      <th>Phone</th>\n",
       "      <th>Email</th>\n",
       "      <th>Unemployed</th>\n",
       "      <th>Num_children</th>\n",
       "      <th>Num_family</th>\n",
       "      <th>Account_length</th>\n",
       "      <th>...</th>\n",
       "      <th>Occupation_type_Low-skill Laborers</th>\n",
       "      <th>Occupation_type_Managers</th>\n",
       "      <th>Occupation_type_Medicine staff</th>\n",
       "      <th>Occupation_type_Other</th>\n",
       "      <th>Occupation_type_Private service staff</th>\n",
       "      <th>Occupation_type_Realty agents</th>\n",
       "      <th>Occupation_type_Sales staff</th>\n",
       "      <th>Occupation_type_Secretaries</th>\n",
       "      <th>Occupation_type_Security staff</th>\n",
       "      <th>Occupation_type_Waiters/barmen staff</th>\n",
       "    </tr>\n",
       "  </thead>\n",
       "  <tbody>\n",
       "    <tr>\n",
       "      <th>0</th>\n",
       "      <td>1</td>\n",
       "      <td>1</td>\n",
       "      <td>1</td>\n",
       "      <td>1</td>\n",
       "      <td>0</td>\n",
       "      <td>0</td>\n",
       "      <td>0</td>\n",
       "      <td>0</td>\n",
       "      <td>2</td>\n",
       "      <td>15</td>\n",
       "      <td>...</td>\n",
       "      <td>0</td>\n",
       "      <td>0</td>\n",
       "      <td>0</td>\n",
       "      <td>1</td>\n",
       "      <td>0</td>\n",
       "      <td>0</td>\n",
       "      <td>0</td>\n",
       "      <td>0</td>\n",
       "      <td>0</td>\n",
       "      <td>0</td>\n",
       "    </tr>\n",
       "    <tr>\n",
       "      <th>1</th>\n",
       "      <td>1</td>\n",
       "      <td>1</td>\n",
       "      <td>1</td>\n",
       "      <td>0</td>\n",
       "      <td>0</td>\n",
       "      <td>0</td>\n",
       "      <td>0</td>\n",
       "      <td>0</td>\n",
       "      <td>2</td>\n",
       "      <td>29</td>\n",
       "      <td>...</td>\n",
       "      <td>0</td>\n",
       "      <td>0</td>\n",
       "      <td>0</td>\n",
       "      <td>0</td>\n",
       "      <td>0</td>\n",
       "      <td>0</td>\n",
       "      <td>0</td>\n",
       "      <td>0</td>\n",
       "      <td>1</td>\n",
       "      <td>0</td>\n",
       "    </tr>\n",
       "    <tr>\n",
       "      <th>2</th>\n",
       "      <td>0</td>\n",
       "      <td>0</td>\n",
       "      <td>1</td>\n",
       "      <td>0</td>\n",
       "      <td>1</td>\n",
       "      <td>1</td>\n",
       "      <td>0</td>\n",
       "      <td>0</td>\n",
       "      <td>1</td>\n",
       "      <td>4</td>\n",
       "      <td>...</td>\n",
       "      <td>0</td>\n",
       "      <td>0</td>\n",
       "      <td>0</td>\n",
       "      <td>0</td>\n",
       "      <td>0</td>\n",
       "      <td>0</td>\n",
       "      <td>1</td>\n",
       "      <td>0</td>\n",
       "      <td>0</td>\n",
       "      <td>0</td>\n",
       "    </tr>\n",
       "    <tr>\n",
       "      <th>3</th>\n",
       "      <td>0</td>\n",
       "      <td>0</td>\n",
       "      <td>1</td>\n",
       "      <td>0</td>\n",
       "      <td>0</td>\n",
       "      <td>0</td>\n",
       "      <td>1</td>\n",
       "      <td>0</td>\n",
       "      <td>1</td>\n",
       "      <td>20</td>\n",
       "      <td>...</td>\n",
       "      <td>0</td>\n",
       "      <td>0</td>\n",
       "      <td>0</td>\n",
       "      <td>1</td>\n",
       "      <td>0</td>\n",
       "      <td>0</td>\n",
       "      <td>0</td>\n",
       "      <td>0</td>\n",
       "      <td>0</td>\n",
       "      <td>0</td>\n",
       "    </tr>\n",
       "    <tr>\n",
       "      <th>4</th>\n",
       "      <td>1</td>\n",
       "      <td>1</td>\n",
       "      <td>1</td>\n",
       "      <td>1</td>\n",
       "      <td>1</td>\n",
       "      <td>1</td>\n",
       "      <td>0</td>\n",
       "      <td>0</td>\n",
       "      <td>2</td>\n",
       "      <td>5</td>\n",
       "      <td>...</td>\n",
       "      <td>0</td>\n",
       "      <td>0</td>\n",
       "      <td>0</td>\n",
       "      <td>0</td>\n",
       "      <td>0</td>\n",
       "      <td>0</td>\n",
       "      <td>0</td>\n",
       "      <td>0</td>\n",
       "      <td>0</td>\n",
       "      <td>0</td>\n",
       "    </tr>\n",
       "    <tr>\n",
       "      <th>...</th>\n",
       "      <td>...</td>\n",
       "      <td>...</td>\n",
       "      <td>...</td>\n",
       "      <td>...</td>\n",
       "      <td>...</td>\n",
       "      <td>...</td>\n",
       "      <td>...</td>\n",
       "      <td>...</td>\n",
       "      <td>...</td>\n",
       "      <td>...</td>\n",
       "      <td>...</td>\n",
       "      <td>...</td>\n",
       "      <td>...</td>\n",
       "      <td>...</td>\n",
       "      <td>...</td>\n",
       "      <td>...</td>\n",
       "      <td>...</td>\n",
       "      <td>...</td>\n",
       "      <td>...</td>\n",
       "      <td>...</td>\n",
       "      <td>...</td>\n",
       "    </tr>\n",
       "    <tr>\n",
       "      <th>9704</th>\n",
       "      <td>0</td>\n",
       "      <td>0</td>\n",
       "      <td>0</td>\n",
       "      <td>0</td>\n",
       "      <td>0</td>\n",
       "      <td>0</td>\n",
       "      <td>0</td>\n",
       "      <td>0</td>\n",
       "      <td>2</td>\n",
       "      <td>20</td>\n",
       "      <td>...</td>\n",
       "      <td>0</td>\n",
       "      <td>0</td>\n",
       "      <td>0</td>\n",
       "      <td>0</td>\n",
       "      <td>0</td>\n",
       "      <td>0</td>\n",
       "      <td>0</td>\n",
       "      <td>0</td>\n",
       "      <td>0</td>\n",
       "      <td>0</td>\n",
       "    </tr>\n",
       "    <tr>\n",
       "      <th>9705</th>\n",
       "      <td>0</td>\n",
       "      <td>0</td>\n",
       "      <td>1</td>\n",
       "      <td>1</td>\n",
       "      <td>1</td>\n",
       "      <td>0</td>\n",
       "      <td>0</td>\n",
       "      <td>0</td>\n",
       "      <td>2</td>\n",
       "      <td>19</td>\n",
       "      <td>...</td>\n",
       "      <td>0</td>\n",
       "      <td>0</td>\n",
       "      <td>0</td>\n",
       "      <td>1</td>\n",
       "      <td>0</td>\n",
       "      <td>0</td>\n",
       "      <td>0</td>\n",
       "      <td>0</td>\n",
       "      <td>0</td>\n",
       "      <td>0</td>\n",
       "    </tr>\n",
       "    <tr>\n",
       "      <th>9706</th>\n",
       "      <td>1</td>\n",
       "      <td>1</td>\n",
       "      <td>1</td>\n",
       "      <td>0</td>\n",
       "      <td>0</td>\n",
       "      <td>0</td>\n",
       "      <td>0</td>\n",
       "      <td>0</td>\n",
       "      <td>2</td>\n",
       "      <td>21</td>\n",
       "      <td>...</td>\n",
       "      <td>0</td>\n",
       "      <td>0</td>\n",
       "      <td>0</td>\n",
       "      <td>1</td>\n",
       "      <td>0</td>\n",
       "      <td>0</td>\n",
       "      <td>0</td>\n",
       "      <td>0</td>\n",
       "      <td>0</td>\n",
       "      <td>0</td>\n",
       "    </tr>\n",
       "    <tr>\n",
       "      <th>9707</th>\n",
       "      <td>0</td>\n",
       "      <td>0</td>\n",
       "      <td>1</td>\n",
       "      <td>0</td>\n",
       "      <td>1</td>\n",
       "      <td>1</td>\n",
       "      <td>0</td>\n",
       "      <td>0</td>\n",
       "      <td>2</td>\n",
       "      <td>32</td>\n",
       "      <td>...</td>\n",
       "      <td>0</td>\n",
       "      <td>0</td>\n",
       "      <td>1</td>\n",
       "      <td>0</td>\n",
       "      <td>0</td>\n",
       "      <td>0</td>\n",
       "      <td>0</td>\n",
       "      <td>0</td>\n",
       "      <td>0</td>\n",
       "      <td>0</td>\n",
       "    </tr>\n",
       "    <tr>\n",
       "      <th>9708</th>\n",
       "      <td>1</td>\n",
       "      <td>0</td>\n",
       "      <td>1</td>\n",
       "      <td>0</td>\n",
       "      <td>0</td>\n",
       "      <td>0</td>\n",
       "      <td>0</td>\n",
       "      <td>0</td>\n",
       "      <td>1</td>\n",
       "      <td>13</td>\n",
       "      <td>...</td>\n",
       "      <td>0</td>\n",
       "      <td>0</td>\n",
       "      <td>0</td>\n",
       "      <td>0</td>\n",
       "      <td>0</td>\n",
       "      <td>0</td>\n",
       "      <td>0</td>\n",
       "      <td>0</td>\n",
       "      <td>0</td>\n",
       "      <td>0</td>\n",
       "    </tr>\n",
       "  </tbody>\n",
       "</table>\n",
       "<p>9709 rows × 54 columns</p>\n",
       "</div>"
      ],
      "text/plain": [
       "      Gender  Own_car  Own_property  Work_phone  Phone  Email  Unemployed  \\\n",
       "0          1        1             1           1      0      0           0   \n",
       "1          1        1             1           0      0      0           0   \n",
       "2          0        0             1           0      1      1           0   \n",
       "3          0        0             1           0      0      0           1   \n",
       "4          1        1             1           1      1      1           0   \n",
       "...      ...      ...           ...         ...    ...    ...         ...   \n",
       "9704       0        0             0           0      0      0           0   \n",
       "9705       0        0             1           1      1      0           0   \n",
       "9706       1        1             1           0      0      0           0   \n",
       "9707       0        0             1           0      1      1           0   \n",
       "9708       1        0             1           0      0      0           0   \n",
       "\n",
       "      Num_children  Num_family  Account_length  ...  \\\n",
       "0                0           2              15  ...   \n",
       "1                0           2              29  ...   \n",
       "2                0           1               4  ...   \n",
       "3                0           1              20  ...   \n",
       "4                0           2               5  ...   \n",
       "...            ...         ...             ...  ...   \n",
       "9704             0           2              20  ...   \n",
       "9705             0           2              19  ...   \n",
       "9706             0           2              21  ...   \n",
       "9707             0           2              32  ...   \n",
       "9708             0           1              13  ...   \n",
       "\n",
       "      Occupation_type_Low-skill Laborers  Occupation_type_Managers  \\\n",
       "0                                      0                         0   \n",
       "1                                      0                         0   \n",
       "2                                      0                         0   \n",
       "3                                      0                         0   \n",
       "4                                      0                         0   \n",
       "...                                  ...                       ...   \n",
       "9704                                   0                         0   \n",
       "9705                                   0                         0   \n",
       "9706                                   0                         0   \n",
       "9707                                   0                         0   \n",
       "9708                                   0                         0   \n",
       "\n",
       "      Occupation_type_Medicine staff  Occupation_type_Other  \\\n",
       "0                                  0                      1   \n",
       "1                                  0                      0   \n",
       "2                                  0                      0   \n",
       "3                                  0                      1   \n",
       "4                                  0                      0   \n",
       "...                              ...                    ...   \n",
       "9704                               0                      0   \n",
       "9705                               0                      1   \n",
       "9706                               0                      1   \n",
       "9707                               1                      0   \n",
       "9708                               0                      0   \n",
       "\n",
       "      Occupation_type_Private service staff  Occupation_type_Realty agents  \\\n",
       "0                                         0                              0   \n",
       "1                                         0                              0   \n",
       "2                                         0                              0   \n",
       "3                                         0                              0   \n",
       "4                                         0                              0   \n",
       "...                                     ...                            ...   \n",
       "9704                                      0                              0   \n",
       "9705                                      0                              0   \n",
       "9706                                      0                              0   \n",
       "9707                                      0                              0   \n",
       "9708                                      0                              0   \n",
       "\n",
       "      Occupation_type_Sales staff  Occupation_type_Secretaries  \\\n",
       "0                               0                            0   \n",
       "1                               0                            0   \n",
       "2                               1                            0   \n",
       "3                               0                            0   \n",
       "4                               0                            0   \n",
       "...                           ...                          ...   \n",
       "9704                            0                            0   \n",
       "9705                            0                            0   \n",
       "9706                            0                            0   \n",
       "9707                            0                            0   \n",
       "9708                            0                            0   \n",
       "\n",
       "      Occupation_type_Security staff  Occupation_type_Waiters/barmen staff  \n",
       "0                                  0                                     0  \n",
       "1                                  1                                     0  \n",
       "2                                  0                                     0  \n",
       "3                                  0                                     0  \n",
       "4                                  0                                     0  \n",
       "...                              ...                                   ...  \n",
       "9704                               0                                     0  \n",
       "9705                               0                                     0  \n",
       "9706                               0                                     0  \n",
       "9707                               0                                     0  \n",
       "9708                               0                                     0  \n",
       "\n",
       "[9709 rows x 54 columns]"
      ]
     },
     "execution_count": 5,
     "metadata": {},
     "output_type": "execute_result"
    }
   ],
   "source": [
    "df"
   ]
  },
  {
   "cell_type": "code",
   "execution_count": 6,
   "id": "17dded39-01ca-4d09-b0a4-624a60e706d0",
   "metadata": {},
   "outputs": [
    {
     "data": {
      "text/plain": [
       "Gender                                          0\n",
       "Own_car                                         0\n",
       "Own_property                                    0\n",
       "Work_phone                                      0\n",
       "Phone                                           0\n",
       "Email                                           0\n",
       "Unemployed                                      0\n",
       "Num_children                                    0\n",
       "Num_family                                      0\n",
       "Account_length                                  0\n",
       "Total_income                                    0\n",
       "Age                                             0\n",
       "Years_employed                                  0\n",
       "Target                                          0\n",
       "Income_type_Commercial associate                0\n",
       "Income_type_Pensioner                           0\n",
       "Income_type_State servant                       0\n",
       "Income_type_Student                             0\n",
       "Income_type_Working                             0\n",
       "Education_type_Academic degree                  0\n",
       "Education_type_Higher education                 0\n",
       "Education_type_Incomplete higher                0\n",
       "Education_type_Lower secondary                  0\n",
       "Education_type_Secondary / secondary special    0\n",
       "Family_status_Civil marriage                    0\n",
       "Family_status_Married                           0\n",
       "Family_status_Separated                         0\n",
       "Family_status_Single / not married              0\n",
       "Family_status_Widow                             0\n",
       "Housing_type_Co-op apartment                    0\n",
       "Housing_type_House / apartment                  0\n",
       "Housing_type_Municipal apartment                0\n",
       "Housing_type_Office apartment                   0\n",
       "Housing_type_Rented apartment                   0\n",
       "Housing_type_With parents                       0\n",
       "Occupation_type_Accountants                     0\n",
       "Occupation_type_Cleaning staff                  0\n",
       "Occupation_type_Cooking staff                   0\n",
       "Occupation_type_Core staff                      0\n",
       "Occupation_type_Drivers                         0\n",
       "Occupation_type_HR staff                        0\n",
       "Occupation_type_High skill tech staff           0\n",
       "Occupation_type_IT staff                        0\n",
       "Occupation_type_Laborers                        0\n",
       "Occupation_type_Low-skill Laborers              0\n",
       "Occupation_type_Managers                        0\n",
       "Occupation_type_Medicine staff                  0\n",
       "Occupation_type_Other                           0\n",
       "Occupation_type_Private service staff           0\n",
       "Occupation_type_Realty agents                   0\n",
       "Occupation_type_Sales staff                     0\n",
       "Occupation_type_Secretaries                     0\n",
       "Occupation_type_Security staff                  0\n",
       "Occupation_type_Waiters/barmen staff            0\n",
       "dtype: int64"
      ]
     },
     "execution_count": 6,
     "metadata": {},
     "output_type": "execute_result"
    }
   ],
   "source": [
    "df.isna().sum()"
   ]
  },
  {
   "cell_type": "code",
   "execution_count": 7,
   "id": "9d3408b7-eb8f-4684-951b-08d1cafcff6e",
   "metadata": {},
   "outputs": [
    {
     "data": {
      "text/plain": [
       "Index(['Gender', 'Own_car', 'Own_property', 'Work_phone', 'Phone', 'Email',\n",
       "       'Unemployed', 'Num_children', 'Num_family', 'Account_length',\n",
       "       'Total_income', 'Age', 'Years_employed', 'Target',\n",
       "       'Income_type_Commercial associate', 'Income_type_Pensioner',\n",
       "       'Income_type_State servant', 'Income_type_Student',\n",
       "       'Income_type_Working', 'Education_type_Academic degree',\n",
       "       'Education_type_Higher education', 'Education_type_Incomplete higher',\n",
       "       'Education_type_Lower secondary',\n",
       "       'Education_type_Secondary / secondary special',\n",
       "       'Family_status_Civil marriage', 'Family_status_Married',\n",
       "       'Family_status_Separated', 'Family_status_Single / not married',\n",
       "       'Family_status_Widow', 'Housing_type_Co-op apartment',\n",
       "       'Housing_type_House / apartment', 'Housing_type_Municipal apartment',\n",
       "       'Housing_type_Office apartment', 'Housing_type_Rented apartment',\n",
       "       'Housing_type_With parents', 'Occupation_type_Accountants',\n",
       "       'Occupation_type_Cleaning staff', 'Occupation_type_Cooking staff',\n",
       "       'Occupation_type_Core staff', 'Occupation_type_Drivers',\n",
       "       'Occupation_type_HR staff', 'Occupation_type_High skill tech staff',\n",
       "       'Occupation_type_IT staff', 'Occupation_type_Laborers',\n",
       "       'Occupation_type_Low-skill Laborers', 'Occupation_type_Managers',\n",
       "       'Occupation_type_Medicine staff', 'Occupation_type_Other',\n",
       "       'Occupation_type_Private service staff',\n",
       "       'Occupation_type_Realty agents', 'Occupation_type_Sales staff',\n",
       "       'Occupation_type_Secretaries', 'Occupation_type_Security staff',\n",
       "       'Occupation_type_Waiters/barmen staff'],\n",
       "      dtype='object')"
      ]
     },
     "execution_count": 7,
     "metadata": {},
     "output_type": "execute_result"
    }
   ],
   "source": [
    "df.columns"
   ]
  },
  {
   "cell_type": "code",
   "execution_count": 8,
   "id": "1d73ae1b-e0a2-470f-9c2b-e4ce585b17d1",
   "metadata": {},
   "outputs": [],
   "source": [
    "input_cols = ['Gender', 'Own_car', 'Own_property', 'Work_phone', 'Phone', 'Email',\n",
    "       'Unemployed', 'Num_children', 'Num_family', 'Account_length',\n",
    "       'Total_income', 'Age', 'Years_employed',\n",
    "       'Income_type_Commercial associate', 'Income_type_Pensioner',\n",
    "       'Income_type_State servant', 'Income_type_Student',\n",
    "       'Income_type_Working', 'Education_type_Academic degree',\n",
    "       'Education_type_Higher education', 'Education_type_Incomplete higher',\n",
    "       'Education_type_Lower secondary',\n",
    "       'Education_type_Secondary / secondary special',\n",
    "       'Family_status_Civil marriage', 'Family_status_Married',\n",
    "       'Family_status_Separated', 'Family_status_Single / not married',\n",
    "       'Family_status_Widow', 'Housing_type_Co-op apartment',\n",
    "       'Housing_type_House / apartment', 'Housing_type_Municipal apartment',\n",
    "       'Housing_type_Office apartment', 'Housing_type_Rented apartment',\n",
    "       'Housing_type_With parents', 'Occupation_type_Accountants',\n",
    "       'Occupation_type_Cleaning staff', 'Occupation_type_Cooking staff',\n",
    "       'Occupation_type_Core staff', 'Occupation_type_Drivers',\n",
    "       'Occupation_type_HR staff', 'Occupation_type_High skill tech staff',\n",
    "       'Occupation_type_IT staff', 'Occupation_type_Laborers',\n",
    "       'Occupation_type_Low-skill Laborers', 'Occupation_type_Managers',\n",
    "       'Occupation_type_Medicine staff', 'Occupation_type_Other',\n",
    "       'Occupation_type_Private service staff',\n",
    "       'Occupation_type_Realty agents', 'Occupation_type_Sales staff',\n",
    "       'Occupation_type_Secretaries', 'Occupation_type_Security staff',\n",
    "       'Occupation_type_Waiters/barmen staff']\n",
    "target_col = ['Target']"
   ]
  },
  {
   "cell_type": "code",
   "execution_count": 9,
   "id": "48da2123-425f-48a6-b33e-231c4e6a5196",
   "metadata": {},
   "outputs": [],
   "source": [
    "X = df[input_cols]\n",
    "y = df[target_col]"
   ]
  },
  {
   "cell_type": "code",
   "execution_count": 10,
   "id": "0d05de3f-8395-4d1e-a404-7a6f7c2351c8",
   "metadata": {},
   "outputs": [],
   "source": [
    "from sklearn.preprocessing import MinMaxScaler"
   ]
  },
  {
   "cell_type": "code",
   "execution_count": 11,
   "id": "cc295e52-69dd-431a-8630-1fc9a208bc95",
   "metadata": {},
   "outputs": [
    {
     "data": {
      "text/html": [
       "<style>#sk-container-id-1 {color: black;}#sk-container-id-1 pre{padding: 0;}#sk-container-id-1 div.sk-toggleable {background-color: white;}#sk-container-id-1 label.sk-toggleable__label {cursor: pointer;display: block;width: 100%;margin-bottom: 0;padding: 0.3em;box-sizing: border-box;text-align: center;}#sk-container-id-1 label.sk-toggleable__label-arrow:before {content: \"▸\";float: left;margin-right: 0.25em;color: #696969;}#sk-container-id-1 label.sk-toggleable__label-arrow:hover:before {color: black;}#sk-container-id-1 div.sk-estimator:hover label.sk-toggleable__label-arrow:before {color: black;}#sk-container-id-1 div.sk-toggleable__content {max-height: 0;max-width: 0;overflow: hidden;text-align: left;background-color: #f0f8ff;}#sk-container-id-1 div.sk-toggleable__content pre {margin: 0.2em;color: black;border-radius: 0.25em;background-color: #f0f8ff;}#sk-container-id-1 input.sk-toggleable__control:checked~div.sk-toggleable__content {max-height: 200px;max-width: 100%;overflow: auto;}#sk-container-id-1 input.sk-toggleable__control:checked~label.sk-toggleable__label-arrow:before {content: \"▾\";}#sk-container-id-1 div.sk-estimator input.sk-toggleable__control:checked~label.sk-toggleable__label {background-color: #d4ebff;}#sk-container-id-1 div.sk-label input.sk-toggleable__control:checked~label.sk-toggleable__label {background-color: #d4ebff;}#sk-container-id-1 input.sk-hidden--visually {border: 0;clip: rect(1px 1px 1px 1px);clip: rect(1px, 1px, 1px, 1px);height: 1px;margin: -1px;overflow: hidden;padding: 0;position: absolute;width: 1px;}#sk-container-id-1 div.sk-estimator {font-family: monospace;background-color: #f0f8ff;border: 1px dotted black;border-radius: 0.25em;box-sizing: border-box;margin-bottom: 0.5em;}#sk-container-id-1 div.sk-estimator:hover {background-color: #d4ebff;}#sk-container-id-1 div.sk-parallel-item::after {content: \"\";width: 100%;border-bottom: 1px solid gray;flex-grow: 1;}#sk-container-id-1 div.sk-label:hover label.sk-toggleable__label {background-color: #d4ebff;}#sk-container-id-1 div.sk-serial::before {content: \"\";position: absolute;border-left: 1px solid gray;box-sizing: border-box;top: 0;bottom: 0;left: 50%;z-index: 0;}#sk-container-id-1 div.sk-serial {display: flex;flex-direction: column;align-items: center;background-color: white;padding-right: 0.2em;padding-left: 0.2em;position: relative;}#sk-container-id-1 div.sk-item {position: relative;z-index: 1;}#sk-container-id-1 div.sk-parallel {display: flex;align-items: stretch;justify-content: center;background-color: white;position: relative;}#sk-container-id-1 div.sk-item::before, #sk-container-id-1 div.sk-parallel-item::before {content: \"\";position: absolute;border-left: 1px solid gray;box-sizing: border-box;top: 0;bottom: 0;left: 50%;z-index: -1;}#sk-container-id-1 div.sk-parallel-item {display: flex;flex-direction: column;z-index: 1;position: relative;background-color: white;}#sk-container-id-1 div.sk-parallel-item:first-child::after {align-self: flex-end;width: 50%;}#sk-container-id-1 div.sk-parallel-item:last-child::after {align-self: flex-start;width: 50%;}#sk-container-id-1 div.sk-parallel-item:only-child::after {width: 0;}#sk-container-id-1 div.sk-dashed-wrapped {border: 1px dashed gray;margin: 0 0.4em 0.5em 0.4em;box-sizing: border-box;padding-bottom: 0.4em;background-color: white;}#sk-container-id-1 div.sk-label label {font-family: monospace;font-weight: bold;display: inline-block;line-height: 1.2em;}#sk-container-id-1 div.sk-label-container {text-align: center;}#sk-container-id-1 div.sk-container {/* jupyter's `normalize.less` sets `[hidden] { display: none; }` but bootstrap.min.css set `[hidden] { display: none !important; }` so we also need the `!important` here to be able to override the default hidden behavior on the sphinx rendered scikit-learn.org. See: https://github.com/scikit-learn/scikit-learn/issues/21755 */display: inline-block !important;position: relative;}#sk-container-id-1 div.sk-text-repr-fallback {display: none;}</style><div id=\"sk-container-id-1\" class=\"sk-top-container\"><div class=\"sk-text-repr-fallback\"><pre>MinMaxScaler()</pre><b>In a Jupyter environment, please rerun this cell to show the HTML representation or trust the notebook. <br />On GitHub, the HTML representation is unable to render, please try loading this page with nbviewer.org.</b></div><div class=\"sk-container\" hidden><div class=\"sk-item\"><div class=\"sk-estimator sk-toggleable\"><input class=\"sk-toggleable__control sk-hidden--visually\" id=\"sk-estimator-id-1\" type=\"checkbox\" checked><label for=\"sk-estimator-id-1\" class=\"sk-toggleable__label sk-toggleable__label-arrow\">MinMaxScaler</label><div class=\"sk-toggleable__content\"><pre>MinMaxScaler()</pre></div></div></div></div></div>"
      ],
      "text/plain": [
       "MinMaxScaler()"
      ]
     },
     "execution_count": 11,
     "metadata": {},
     "output_type": "execute_result"
    }
   ],
   "source": [
    "scaler = MinMaxScaler()\n",
    "scaler.fit(X)"
   ]
  },
  {
   "cell_type": "code",
   "execution_count": 12,
   "id": "0de0862a-a4f4-4a56-9946-b0b6800be4dc",
   "metadata": {},
   "outputs": [],
   "source": [
    "X = scaler.transform(X)"
   ]
  },
  {
   "cell_type": "code",
   "execution_count": 13,
   "id": "b2dbb0d1-3b8f-420b-9399-715fa4c4780f",
   "metadata": {},
   "outputs": [],
   "source": [
    "from sklearn.model_selection import train_test_split"
   ]
  },
  {
   "cell_type": "code",
   "execution_count": 14,
   "id": "e0cb4150-aa34-42ad-99a1-780a365e920d",
   "metadata": {},
   "outputs": [],
   "source": [
    "X_train,X_test,y_train,y_test = train_test_split(X,y,test_size=0.25,random_state=42)"
   ]
  },
  {
   "cell_type": "code",
   "execution_count": 15,
   "id": "b17488d9-3e58-4837-a9cf-f205570bfad9",
   "metadata": {},
   "outputs": [],
   "source": [
    "X_train = pd.DataFrame(X_train,columns=input_cols)\n",
    "X_test = pd.DataFrame(X_test,columns=input_cols)"
   ]
  },
  {
   "cell_type": "markdown",
   "id": "c09e0059-48b3-4894-98ac-74b08494e731",
   "metadata": {},
   "source": [
    "**TRAINING THE MODEL**"
   ]
  },
  {
   "cell_type": "code",
   "execution_count": 16,
   "id": "a532fa96-50fb-4a35-927e-77bd6afc88a1",
   "metadata": {},
   "outputs": [],
   "source": [
    "from sklearn.ensemble import RandomForestClassifier"
   ]
  },
  {
   "cell_type": "code",
   "execution_count": 17,
   "id": "90db3889-64ed-4a81-94c6-7517cb333716",
   "metadata": {},
   "outputs": [],
   "source": [
    "model = RandomForestClassifier(n_jobs=-1,random_state=42)"
   ]
  },
  {
   "cell_type": "code",
   "execution_count": 18,
   "id": "e8d2e11e-f7b1-4823-a3a5-486cf83f5c3b",
   "metadata": {},
   "outputs": [
    {
     "name": "stderr",
     "output_type": "stream",
     "text": [
      "/home/apooyadv/.local/lib/python3.10/site-packages/sklearn/base.py:1152: DataConversionWarning: A column-vector y was passed when a 1d array was expected. Please change the shape of y to (n_samples,), for example using ravel().\n",
      "  return fit_method(estimator, *args, **kwargs)\n"
     ]
    },
    {
     "data": {
      "text/html": [
       "<style>#sk-container-id-2 {color: black;}#sk-container-id-2 pre{padding: 0;}#sk-container-id-2 div.sk-toggleable {background-color: white;}#sk-container-id-2 label.sk-toggleable__label {cursor: pointer;display: block;width: 100%;margin-bottom: 0;padding: 0.3em;box-sizing: border-box;text-align: center;}#sk-container-id-2 label.sk-toggleable__label-arrow:before {content: \"▸\";float: left;margin-right: 0.25em;color: #696969;}#sk-container-id-2 label.sk-toggleable__label-arrow:hover:before {color: black;}#sk-container-id-2 div.sk-estimator:hover label.sk-toggleable__label-arrow:before {color: black;}#sk-container-id-2 div.sk-toggleable__content {max-height: 0;max-width: 0;overflow: hidden;text-align: left;background-color: #f0f8ff;}#sk-container-id-2 div.sk-toggleable__content pre {margin: 0.2em;color: black;border-radius: 0.25em;background-color: #f0f8ff;}#sk-container-id-2 input.sk-toggleable__control:checked~div.sk-toggleable__content {max-height: 200px;max-width: 100%;overflow: auto;}#sk-container-id-2 input.sk-toggleable__control:checked~label.sk-toggleable__label-arrow:before {content: \"▾\";}#sk-container-id-2 div.sk-estimator input.sk-toggleable__control:checked~label.sk-toggleable__label {background-color: #d4ebff;}#sk-container-id-2 div.sk-label input.sk-toggleable__control:checked~label.sk-toggleable__label {background-color: #d4ebff;}#sk-container-id-2 input.sk-hidden--visually {border: 0;clip: rect(1px 1px 1px 1px);clip: rect(1px, 1px, 1px, 1px);height: 1px;margin: -1px;overflow: hidden;padding: 0;position: absolute;width: 1px;}#sk-container-id-2 div.sk-estimator {font-family: monospace;background-color: #f0f8ff;border: 1px dotted black;border-radius: 0.25em;box-sizing: border-box;margin-bottom: 0.5em;}#sk-container-id-2 div.sk-estimator:hover {background-color: #d4ebff;}#sk-container-id-2 div.sk-parallel-item::after {content: \"\";width: 100%;border-bottom: 1px solid gray;flex-grow: 1;}#sk-container-id-2 div.sk-label:hover label.sk-toggleable__label {background-color: #d4ebff;}#sk-container-id-2 div.sk-serial::before {content: \"\";position: absolute;border-left: 1px solid gray;box-sizing: border-box;top: 0;bottom: 0;left: 50%;z-index: 0;}#sk-container-id-2 div.sk-serial {display: flex;flex-direction: column;align-items: center;background-color: white;padding-right: 0.2em;padding-left: 0.2em;position: relative;}#sk-container-id-2 div.sk-item {position: relative;z-index: 1;}#sk-container-id-2 div.sk-parallel {display: flex;align-items: stretch;justify-content: center;background-color: white;position: relative;}#sk-container-id-2 div.sk-item::before, #sk-container-id-2 div.sk-parallel-item::before {content: \"\";position: absolute;border-left: 1px solid gray;box-sizing: border-box;top: 0;bottom: 0;left: 50%;z-index: -1;}#sk-container-id-2 div.sk-parallel-item {display: flex;flex-direction: column;z-index: 1;position: relative;background-color: white;}#sk-container-id-2 div.sk-parallel-item:first-child::after {align-self: flex-end;width: 50%;}#sk-container-id-2 div.sk-parallel-item:last-child::after {align-self: flex-start;width: 50%;}#sk-container-id-2 div.sk-parallel-item:only-child::after {width: 0;}#sk-container-id-2 div.sk-dashed-wrapped {border: 1px dashed gray;margin: 0 0.4em 0.5em 0.4em;box-sizing: border-box;padding-bottom: 0.4em;background-color: white;}#sk-container-id-2 div.sk-label label {font-family: monospace;font-weight: bold;display: inline-block;line-height: 1.2em;}#sk-container-id-2 div.sk-label-container {text-align: center;}#sk-container-id-2 div.sk-container {/* jupyter's `normalize.less` sets `[hidden] { display: none; }` but bootstrap.min.css set `[hidden] { display: none !important; }` so we also need the `!important` here to be able to override the default hidden behavior on the sphinx rendered scikit-learn.org. See: https://github.com/scikit-learn/scikit-learn/issues/21755 */display: inline-block !important;position: relative;}#sk-container-id-2 div.sk-text-repr-fallback {display: none;}</style><div id=\"sk-container-id-2\" class=\"sk-top-container\"><div class=\"sk-text-repr-fallback\"><pre>RandomForestClassifier(n_jobs=-1, random_state=42)</pre><b>In a Jupyter environment, please rerun this cell to show the HTML representation or trust the notebook. <br />On GitHub, the HTML representation is unable to render, please try loading this page with nbviewer.org.</b></div><div class=\"sk-container\" hidden><div class=\"sk-item\"><div class=\"sk-estimator sk-toggleable\"><input class=\"sk-toggleable__control sk-hidden--visually\" id=\"sk-estimator-id-2\" type=\"checkbox\" checked><label for=\"sk-estimator-id-2\" class=\"sk-toggleable__label sk-toggleable__label-arrow\">RandomForestClassifier</label><div class=\"sk-toggleable__content\"><pre>RandomForestClassifier(n_jobs=-1, random_state=42)</pre></div></div></div></div></div>"
      ],
      "text/plain": [
       "RandomForestClassifier(n_jobs=-1, random_state=42)"
      ]
     },
     "execution_count": 18,
     "metadata": {},
     "output_type": "execute_result"
    }
   ],
   "source": [
    "model.fit(X_train,y_train)"
   ]
  },
  {
   "cell_type": "code",
   "execution_count": 19,
   "id": "c957e136-f0cc-4138-987b-1dd3f05171fd",
   "metadata": {},
   "outputs": [
    {
     "data": {
      "text/plain": [
       "1.0"
      ]
     },
     "execution_count": 19,
     "metadata": {},
     "output_type": "execute_result"
    }
   ],
   "source": [
    "model.score(X_train,y_train)"
   ]
  },
  {
   "cell_type": "code",
   "execution_count": 20,
   "id": "10f15dd3-6e4c-471f-94ac-4094a802d7f1",
   "metadata": {},
   "outputs": [
    {
     "data": {
      "text/plain": [
       "0.8554365733113674"
      ]
     },
     "execution_count": 20,
     "metadata": {},
     "output_type": "execute_result"
    }
   ],
   "source": [
    "model.score(X_test,y_test)"
   ]
  },
  {
   "cell_type": "markdown",
   "id": "9ea133e5-3a93-4314-9578-0273eb7bf60d",
   "metadata": {},
   "source": [
    "**LET'S CREATE A FUNCTION TO TUNE THE PARAMETERS**"
   ]
  },
  {
   "cell_type": "code",
   "execution_count": 21,
   "id": "49fe7a62-8c91-4fb4-83cb-a465b77e7af9",
   "metadata": {},
   "outputs": [],
   "source": [
    "def params(**kwargs):\n",
    "    \n",
    "    model = RandomForestClassifier(n_jobs=-1,random_state=42,**kwargs)\n",
    "    model.fit(X_train,y_train)\n",
    "    return model.score(X_train,y_train), model.score(X_test,y_test)    "
   ]
  },
  {
   "cell_type": "code",
   "execution_count": 22,
   "id": "ee481528-f593-47dd-86bc-a6e7d7b515c7",
   "metadata": {},
   "outputs": [
    {
     "name": "stderr",
     "output_type": "stream",
     "text": [
      "/home/apooyadv/.local/lib/python3.10/site-packages/sklearn/base.py:1152: DataConversionWarning: A column-vector y was passed when a 1d array was expected. Please change the shape of y to (n_samples,), for example using ravel().\n",
      "  return fit_method(estimator, *args, **kwargs)\n"
     ]
    },
    {
     "data": {
      "text/plain": [
       "(0.9994506249141601, 0.8554365733113674)"
      ]
     },
     "execution_count": 22,
     "metadata": {},
     "output_type": "execute_result"
    }
   ],
   "source": [
    "params(n_estimators=60)"
   ]
  },
  {
   "cell_type": "code",
   "execution_count": 23,
   "id": "0244dd0a-e173-49c7-8ada-e4c460390b1f",
   "metadata": {},
   "outputs": [
    {
     "name": "stderr",
     "output_type": "stream",
     "text": [
      "/home/apooyadv/.local/lib/python3.10/site-packages/sklearn/base.py:1152: DataConversionWarning: A column-vector y was passed when a 1d array was expected. Please change the shape of y to (n_samples,), for example using ravel().\n",
      "  return fit_method(estimator, *args, **kwargs)\n"
     ]
    },
    {
     "data": {
      "text/plain": [
       "(0.8718582612278534, 0.8558484349258649)"
      ]
     },
     "execution_count": 23,
     "metadata": {},
     "output_type": "execute_result"
    }
   ],
   "source": [
    "params(max_depth=5)"
   ]
  },
  {
   "cell_type": "code",
   "execution_count": 24,
   "id": "e630e2a6-e389-4571-bba2-4806ace4628f",
   "metadata": {},
   "outputs": [
    {
     "name": "stderr",
     "output_type": "stream",
     "text": [
      "/home/apooyadv/.local/lib/python3.10/site-packages/sklearn/base.py:1152: DataConversionWarning: A column-vector y was passed when a 1d array was expected. Please change the shape of y to (n_samples,), for example using ravel().\n",
      "  return fit_method(estimator, *args, **kwargs)\n"
     ]
    },
    {
     "data": {
      "text/plain": [
       "(1.0, 0.8550247116968699)"
      ]
     },
     "execution_count": 24,
     "metadata": {},
     "output_type": "execute_result"
    }
   ],
   "source": [
    "params(class_weight={1:1,0:7})"
   ]
  },
  {
   "cell_type": "code",
   "execution_count": 25,
   "id": "06bdcf3a-e8de-4fb2-b0ce-e3d8de61bedc",
   "metadata": {},
   "outputs": [
    {
     "name": "stderr",
     "output_type": "stream",
     "text": [
      "/home/apooyadv/.local/lib/python3.10/site-packages/sklearn/base.py:1152: DataConversionWarning: A column-vector y was passed when a 1d array was expected. Please change the shape of y to (n_samples,), for example using ravel().\n",
      "  return fit_method(estimator, *args, **kwargs)\n"
     ]
    },
    {
     "data": {
      "text/plain": [
       "(0.8718582612278534, 0.8558484349258649)"
      ]
     },
     "execution_count": 25,
     "metadata": {},
     "output_type": "execute_result"
    }
   ],
   "source": [
    "params(max_samples=0.1)"
   ]
  },
  {
   "cell_type": "markdown",
   "id": "ff2092b0-a895-4622-8caf-adac0ac17b98",
   "metadata": {},
   "source": [
    "**FINAL MODEL**"
   ]
  },
  {
   "cell_type": "code",
   "execution_count": 26,
   "id": "537996e2-5d17-4807-a85d-30e8efc8f788",
   "metadata": {},
   "outputs": [
    {
     "name": "stderr",
     "output_type": "stream",
     "text": [
      "/home/apooyadv/.local/lib/python3.10/site-packages/sklearn/base.py:1152: DataConversionWarning: A column-vector y was passed when a 1d array was expected. Please change the shape of y to (n_samples,), for example using ravel().\n",
      "  return fit_method(estimator, *args, **kwargs)\n"
     ]
    },
    {
     "data": {
      "text/plain": [
       "(0.8718582612278534, 0.8558484349258649)"
      ]
     },
     "execution_count": 26,
     "metadata": {},
     "output_type": "execute_result"
    }
   ],
   "source": [
    "params(max_samples=0.1,max_depth=5,n_estimators=60,class_weight={1:1,0:7})"
   ]
  },
  {
   "cell_type": "markdown",
   "id": "d5ba882a-0a57-4fc3-a52c-c54e3d6a45bd",
   "metadata": {},
   "source": [
    "We can see that our model's accuracy is close to 86% which is pretty decent considering the random nature of Credit Risk."
   ]
  }
 ],
 "metadata": {
  "kernelspec": {
   "display_name": "Python 3 (ipykernel)",
   "language": "python",
   "name": "python3"
  },
  "language_info": {
   "codemirror_mode": {
    "name": "ipython",
    "version": 3
   },
   "file_extension": ".py",
   "mimetype": "text/x-python",
   "name": "python",
   "nbconvert_exporter": "python",
   "pygments_lexer": "ipython3",
   "version": "3.10.12"
  }
 },
 "nbformat": 4,
 "nbformat_minor": 5
}
